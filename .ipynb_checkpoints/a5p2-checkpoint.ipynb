{
 "cells": [
  {
   "cell_type": "markdown",
   "metadata": {},
   "source": [
    "# Grid System\n",
    "\n",
    "|  |  |  |\n",
    "| ---  | --- | --- |\n",
    "| [0][0] | [0][1] | [0][2] |\n",
    "| [1][0] | [1][1] | [1][2] |\n",
    "| [2][0] | [2][1] | [2][2] |"
   ]
  },
  {
   "cell_type": "code",
   "execution_count": 1,
   "metadata": {},
   "outputs": [],
   "source": [
    "ROLL_NO = 2018113012\n",
    "MV_PROB = 1 - (((int(str(ROLL_NO)[-3:]) % 40)+1) / 100)\n",
    "CALL_ON_PROB = 0.4\n",
    "CALL_OFF_PROB = 0.2\n",
    "TGT_STAY_PROB = 0.4\n",
    "TGT_MOVE_PROB = 0.15\n",
    "ROW_LIMIT = 3\n",
    "COLUMN_LIMIT = 3\n",
    "STEP_REWARD = -1\n",
    "REACH_REWARD = (ROLL_NO%100) + 10\n",
    "OBSERVATION_SET = [\"o\" + str(i) for i in range(1, 7)]\n",
    "DISCOUNT = 0.5\n",
    "AGENT_MOVE_ACTIONS = [ \"STAY\", \"UP\", \"DOWN\", \"LEFT\", \"RIGHT\" ]\n",
    "TARGET_MOVE_ACTIONS = [ \"STAY\", \"MOVE\" ]\n",
    "START_TARGET_POS = (1, 1)\n",
    "START_AGENT_POS_LIST = [(0, 0), (0, 2), (2, 0), (2, 2)]"
   ]
  },
  {
   "cell_type": "code",
   "execution_count": 2,
   "metadata": {},
   "outputs": [
    {
     "data": {
      "text/plain": [
       "0.87"
      ]
     },
     "execution_count": 2,
     "metadata": {},
     "output_type": "execute_result"
    }
   ],
   "source": [
    "MV_PROB"
   ]
  },
  {
   "cell_type": "code",
   "execution_count": 3,
   "metadata": {},
   "outputs": [],
   "source": [
    "# WORKS\n",
    "def relative_pos (i_pos, f_pos):\n",
    "\tif (i_pos[0]+1 == f_pos[0]) and (i_pos[1] == f_pos[1]):\n",
    "\t\treturn \"DOWN\"\n",
    "\telif (i_pos[0]-1 == f_pos[0]) and (i_pos[1] == f_pos[1]):\n",
    "\t\treturn \"UP\"\n",
    "\telif (i_pos[0] == f_pos[0]) and (i_pos[1]+1 == f_pos[1]):\n",
    "\t\treturn \"RIGHT\"\n",
    "\telif (i_pos[0] == f_pos[0]) and (i_pos[1]-1 == f_pos[1]):\n",
    "\t\treturn \"LEFT\"\n",
    "\telif (i_pos == f_pos):\n",
    "\t\treturn \"STAY\"\n",
    "\telse:\n",
    "\t\treturn False"
   ]
  },
  {
   "cell_type": "code",
   "execution_count": 4,
   "metadata": {},
   "outputs": [],
   "source": [
    "# WORKS\n",
    "def gen_call_prob (call_change, same_pos):\n",
    "    initial_call = call_change[0]\n",
    "    final_call = call_change[1]\n",
    "    if initial_call == True:\n",
    "        if not same_pos:\n",
    "            if final_call == True:\n",
    "                prob = round(1 - CALL_OFF_PROB, 1)\n",
    "            else:\n",
    "                prob = CALL_OFF_PROB\n",
    "        else:\n",
    "            # When agent and target are in same position, call \n",
    "            # turns off in the next step with a probability of 1\n",
    "            if final_call == True:\n",
    "                prob = 0\n",
    "            else:\n",
    "                prob = 1\n",
    "    else:\n",
    "        if final_call == True:\n",
    "            prob = CALL_ON_PROB\n",
    "        else:\n",
    "            prob = round(1 - CALL_ON_PROB, 1)\n",
    "    return prob"
   ]
  },
  {
   "cell_type": "code",
   "execution_count": 5,
   "metadata": {},
   "outputs": [
    {
     "name": "stdout",
     "output_type": "stream",
     "text": [
      "0.6\n"
     ]
    }
   ],
   "source": [
    "# Testing gen_call_prob\n",
    "call_change = (False, False)\n",
    "print(gen_call_prob(call_change, True))"
   ]
  },
  {
   "cell_type": "code",
   "execution_count": 6,
   "metadata": {},
   "outputs": [],
   "source": [
    "# WORKS\n",
    "def on_border (pos):\n",
    "    dirs = []\n",
    "    if (pos[0] == 0):\n",
    "        dirs.append(\"UP\")\n",
    "    if (pos[0] == ROW_LIMIT-1):\n",
    "        dirs.append(\"DOWN\")\n",
    "    if (pos[1] == 0): \n",
    "        dirs.append(\"LEFT\")\n",
    "    if (pos[1] == COLUMN_LIMIT-1):\n",
    "        dirs.append(\"RIGHT\")\n",
    "    if len(dirs) == 0:\n",
    "        return False\n",
    "    return dirs"
   ]
  },
  {
   "cell_type": "code",
   "execution_count": 7,
   "metadata": {},
   "outputs": [
    {
     "name": "stdout",
     "output_type": "stream",
     "text": [
      "RIGHT\n"
     ]
    }
   ],
   "source": [
    "# WORKS\n",
    "def get_opposite (dir1):\n",
    "    if dir1 == \"LEFT\": return \"RIGHT\"\n",
    "    elif dir1 == \"RIGHT\": return \"LEFT\"\n",
    "    elif dir1 == \"UP\": return \"DOWN\"\n",
    "    elif dir1 == \"DOWN\": return \"UP\"\n",
    "    elif dir1 == \"STAY\": return None\n",
    "\n",
    "print(get_opposite(\"LEFT\"))"
   ]
  },
  {
   "cell_type": "code",
   "execution_count": 8,
   "metadata": {},
   "outputs": [
    {
     "name": "stdout",
     "output_type": "stream",
     "text": [
      "True\n",
      "False\n",
      "True\n",
      "False\n"
     ]
    }
   ],
   "source": [
    "# WORKS\n",
    "def is_opposite (dir1, dir2):\n",
    "    if get_opposite(dir1) == dir2: return True\n",
    "    return False\n",
    "\n",
    "print(is_opposite(\"LEFT\", \"RIGHT\"))\n",
    "print(is_opposite(\"LEFT\", \"DOWN\"))\n",
    "print(is_opposite(\"UP\", \"DOWN\"))\n",
    "print(is_opposite(\"UP\", \"LEFT\"))"
   ]
  },
  {
   "cell_type": "code",
   "execution_count": 9,
   "metadata": {},
   "outputs": [],
   "source": [
    "def in_limits (pos):\n",
    "\tif pos[0] >= 0 and pos[0] < ROW_LIMIT:\n",
    "\t\tif pos[1] >= 0 and pos[1] < COLUMN_LIMIT:\n",
    "\t\t\treturn True\t\n",
    "\treturn False"
   ]
  },
  {
   "cell_type": "code",
   "execution_count": 10,
   "metadata": {},
   "outputs": [],
   "source": [
    "# WORKS\n",
    "def gen_target_move_prob (target_pos):\n",
    "    i_pos = target_pos[0]\n",
    "    f_pos = target_pos[1]\n",
    "    r_pos = relative_pos(i_pos, f_pos)\n",
    "    valid = in_limits(f_pos)\n",
    "    bordered = on_border (i_pos)\n",
    "    if r_pos == \"STAY\":\n",
    "        prob = TGT_STAY_PROB\n",
    "        if bordered:\n",
    "            prob += TGT_MOVE_PROB * len(bordered)\n",
    "    elif r_pos:\n",
    "        prob = TGT_MOVE_PROB\n",
    "    else:\n",
    "        prob = 0\n",
    "    if not valid:\n",
    "        return 0\n",
    "    return prob"
   ]
  },
  {
   "cell_type": "code",
   "execution_count": 11,
   "metadata": {
    "scrolled": true
   },
   "outputs": [
    {
     "name": "stdout",
     "output_type": "stream",
     "text": [
      "No errors detected.\n",
      "0.15\n"
     ]
    }
   ],
   "source": [
    "# Testing target_move_prob for all possibilities\n",
    "def test_target_move_prob():\n",
    "    pos_set = []\n",
    "    errors = False\n",
    "    for i in range(ROW_LIMIT):\n",
    "        for j in range(COLUMN_LIMIT):\n",
    "            pos_set.append((i, j))\n",
    "    for i_pos in pos_set:\n",
    "        tot = 0\n",
    "#         print(\"Testing for \" + str(i_pos))\n",
    "        for f_pos in pos_set:\n",
    "            pos = (i_pos, f_pos)\n",
    "            prob = gen_target_move_prob(pos)\n",
    "            tot += prob\n",
    "#             if prob != 0:\n",
    "#                 print(\"prob = \" + str(prob) + \" on f_pos = \" + str(f_pos))\n",
    "        if tot != 1:\n",
    "            errors = True\n",
    "            print(\"Error on \" + str(i_pos) + \". tot = \" + str(tot))\n",
    "    if errors == False:\n",
    "        print(\"No errors detected.\")\n",
    "    return\n",
    "\n",
    "test_target_move_prob()\n",
    "\n",
    "# Testing target_move_prob\n",
    "pos = [ (1, 1), (1, 2) ]\n",
    "prob = gen_target_move_prob(pos)\n",
    "print(prob)\n",
    "# WORKS"
   ]
  },
  {
   "cell_type": "code",
   "execution_count": 12,
   "metadata": {},
   "outputs": [],
   "source": [
    "# WORKS\n",
    "def gen_agent_move_prob (agent_pos, agent_move):\n",
    "    i_pos = agent_pos[0]\n",
    "    f_pos = agent_pos[1]\n",
    "    r_pos = relative_pos(i_pos, f_pos)\n",
    "    valid = in_limits(f_pos)\n",
    "    bordered = on_border(i_pos)\n",
    "#     print(\"Bordered on \" + str(bordered))\n",
    "    if agent_move == \"STAY\" and r_pos == \"STAY\":\n",
    "        prob = 1\n",
    "    elif agent_move != \"STAY\":\n",
    "#         print(\"Move = \" + agent_move + \", r_pos = \" + r_pos)\n",
    "        if r_pos == agent_move:\n",
    "            prob = MV_PROB\n",
    "        elif bordered and r_pos == \"STAY\" and agent_move in bordered:\n",
    "            prob = MV_PROB\n",
    "        elif r_pos != agent_move and is_opposite(r_pos, agent_move):\n",
    "            prob = round(1 - MV_PROB, 2)\n",
    "        elif bordered and r_pos == \"STAY\" and get_opposite(agent_move) in bordered:            \n",
    "            prob = round(1 - MV_PROB, 2)\n",
    "        else:\n",
    "            prob = 0\n",
    "    else:\n",
    "        prob = 0\n",
    "    return prob"
   ]
  },
  {
   "cell_type": "code",
   "execution_count": 13,
   "metadata": {},
   "outputs": [
    {
     "name": "stdout",
     "output_type": "stream",
     "text": [
      "No errors detected.\n"
     ]
    }
   ],
   "source": [
    "# WORKS\n",
    "def test_agent_move_prob():\n",
    "    test_set = []\n",
    "    errors = False\n",
    "    for i in range(ROW_LIMIT):\n",
    "        for j in range(COLUMN_LIMIT):\n",
    "            test_set.append((i, j))\n",
    "    for i_pos in test_set:\n",
    "        for mov in AGENT_MOVE_ACTIONS:\n",
    "            tot = 0\n",
    "#             print(\"For i_pos = \" + str(i_pos) + \" and action = \" + str(mov) + \":\")\n",
    "            for f_pos in test_set:\n",
    "                pos = (i_pos, f_pos)\n",
    "                prob = gen_agent_move_prob(pos, mov)\n",
    "#                 print(\"Prob on \" + str(f_pos) + \" = \" + str(prob))\n",
    "                tot += prob\n",
    "            if tot != 1:\n",
    "                errors = True\n",
    "                print(\"ERROR. i_pos : \" + str(i_pos) + \". Sum = \" + str(tot))\n",
    "    if errors == False:\n",
    "        print(\"No errors detected.\")\n",
    "    return\n",
    "\n",
    "test_agent_move_prob()"
   ]
  },
  {
   "cell_type": "code",
   "execution_count": 14,
   "metadata": {},
   "outputs": [],
   "source": [
    "# WORKS\n",
    "def gen_transition_prob (i_state, action, f_state):\n",
    "    '''\n",
    "     state = (p_{a}, p_{t}, call)\n",
    "     action = (act_{a}, toggle)\n",
    "     where\tact_{a} = [ Stay, Up, Down, Left, Right ]\n",
    "    '''\n",
    "    agent_pos = [i_state[0], f_state[0]]\n",
    "    target_pos = [i_state[1], f_state[1]]\n",
    "    call_change = [i_state[2], f_state[2]]\n",
    "    agent_move = action[0]\n",
    "    same_initial_pos = i_state[0] == i_state[1]\n",
    "\n",
    "    agent_move_prob = gen_agent_move_prob (agent_pos, agent_move)\n",
    "    target_move_prob = gen_target_move_prob (target_pos)\n",
    "    call_prob = gen_call_prob (call_change, same_initial_pos)\n",
    "#     print(\"probs = \" + str(agent_move_prob) + \", \" + str(target_move_prob) + \", \" + str(call_prob))\n",
    "    prob = agent_move_prob * target_move_prob * call_prob\n",
    "    \n",
    "    # Max precision of a transition_prob value is 4\n",
    "    return round(prob, 4)"
   ]
  },
  {
   "cell_type": "code",
   "execution_count": 15,
   "metadata": {},
   "outputs": [],
   "source": [
    "# WORKS\n",
    "def gen_transitions (states, actions):\n",
    "    # transition format = [i_state, action, f_state, transition_prob]\n",
    "    transitions = []\n",
    "    for i in range(len(states)):\n",
    "        for j in range(len(states)):\n",
    "            for action in actions:\n",
    "                transition_prob = gen_transition_prob(states[i], action, states[j])\n",
    "                transitions.append([states[i], action, states[j], transition_prob])\n",
    "    return transitions"
   ]
  },
  {
   "cell_type": "code",
   "execution_count": 16,
   "metadata": {},
   "outputs": [],
   "source": [
    "from decimal import Decimal\n",
    "def test_transitions (states, actions, transitions):\n",
    "    errors = False\n",
    "    for state in states:\n",
    "        for action in actions:\n",
    "#             print(\"For state = \" + str(state) + \" and action = \" + str(action))\n",
    "            tot = Decimal(0)\n",
    "            for transition in transitions:\n",
    "                if transition[0] == state and transition[1] == action:\n",
    "#                     print(\"To final state = \" + str(transition[2]) + \", prob = \" + str(transition[3]))\n",
    "                    cur = transition[3]\n",
    "#                     if cur != 0:\n",
    "#                         print(\"cur = \" + str(cur))\n",
    "                    tot = Decimal(str(tot + Decimal(str(transition[3]))))\n",
    "            if tot != 1:\n",
    "                errors = True\n",
    "                print(\"Error on initial state = \" + str(state) + \" and action = \" + str(action)\\\n",
    "                     + \". tot = \" + str(tot))\n",
    "    if errors == False:\n",
    "        print(\"No errors found.\")\n",
    "    return errors"
   ]
  },
  {
   "cell_type": "code",
   "execution_count": 17,
   "metadata": {},
   "outputs": [],
   "source": [
    "# WORKS\n",
    "def gen_states():\n",
    "    states = []\n",
    "    for a0 in range(ROW_LIMIT):\n",
    "        for a1 in range(COLUMN_LIMIT):\n",
    "            for t0 in range(ROW_LIMIT):\n",
    "                for t1 in range(COLUMN_LIMIT):\n",
    "                    for call in [True, False]:\n",
    "                        state = ( (a0, a1), (t0, t1), call )\n",
    "                        states.append(state)\n",
    "    return states"
   ]
  },
  {
   "cell_type": "code",
   "execution_count": 18,
   "metadata": {},
   "outputs": [],
   "source": [
    "# WORKS\n",
    "def gen_actions():\n",
    "    actions = []\n",
    "    for act_a in AGENT_MOVE_ACTIONS:\n",
    "        action = [ act_a ]\n",
    "        actions.append(action)\n",
    "    return actions"
   ]
  },
  {
   "cell_type": "code",
   "execution_count": 19,
   "metadata": {},
   "outputs": [],
   "source": [
    "# WORKS\n",
    "def gen_reward_val (state, action):\n",
    "    agent_pos = state[0]\n",
    "    target_pos = state[1]\n",
    "    call = state[2]\n",
    "    if (agent_pos == target_pos) and (call == True):\n",
    "        reward = REACH_REWARD\n",
    "    elif action[0] == \"STAY\":\n",
    "        reward = 0\n",
    "    else:\n",
    "        reward = STEP_REWARD\n",
    "    return reward"
   ]
  },
  {
   "cell_type": "code",
   "execution_count": 20,
   "metadata": {},
   "outputs": [],
   "source": [
    "# WORKS\n",
    "def gen_rewards(states, actions):\n",
    "    # reward_format = [ initial_state, action, reward_val ]\n",
    "    rewards = []\n",
    "    for state in states:\n",
    "        for action in actions:\n",
    "            reward_val = gen_reward_val (state, action)\n",
    "            rewards.append([ state, action, reward_val ])\n",
    "    return rewards"
   ]
  },
  {
   "cell_type": "code",
   "execution_count": 21,
   "metadata": {},
   "outputs": [],
   "source": [
    "def test_rewards (rewards):\n",
    "    errors = False\n",
    "    for item in rewards:\n",
    "        state = item[0]\n",
    "        reward = item[2]\n",
    "        if state[0] == state[1] and state[2] == True:\n",
    "            if reward == -1:\n",
    "                errors = True\n",
    "        elif reward != -1:\n",
    "            errors = True\n",
    "    if errors == False:\n",
    "        print(\"No errors found.\")\n",
    "    return errors"
   ]
  },
  {
   "cell_type": "code",
   "execution_count": 22,
   "metadata": {},
   "outputs": [],
   "source": [
    "def gen_observation_prob (end_state, action, observation):\n",
    "    agent_pos = end_state[0]\n",
    "    target_pos = end_state[1]\n",
    "    r_pos = relative_pos(agent_pos, target_pos)\n",
    "    if r_pos == \"STAY\" and observation == \"o1\":\n",
    "        prob = 1\n",
    "    elif r_pos == \"RIGHT\" and observation == \"o2\":\n",
    "        prob = 1\n",
    "    elif r_pos == \"DOWN\" and observation == \"o3\":\n",
    "        prob = 1 \n",
    "    elif r_pos == \"LEFT\" and observation == \"o4\":\n",
    "        prob = 1\n",
    "    elif r_pos == \"UP\" and observation == \"o5\":\n",
    "        prob = 1\n",
    "    elif r_pos == False and observation == \"o6\":\n",
    "        prob = 1\n",
    "    else:\n",
    "        prob = 0\n",
    "    return prob"
   ]
  },
  {
   "cell_type": "code",
   "execution_count": 23,
   "metadata": {},
   "outputs": [],
   "source": [
    "def gen_observations (states, actions, observation_set):\n",
    "    # obs_format = [state, action, observation, prob]\n",
    "    observations = []\n",
    "    for end_state in states:\n",
    "        for action in actions:\n",
    "            for observation in observation_set:\n",
    "                prob = gen_observation_prob (end_state, action, observation)\n",
    "                observations.append([end_state, action, observation, prob])\n",
    "    return observations"
   ]
  },
  {
   "cell_type": "code",
   "execution_count": 24,
   "metadata": {},
   "outputs": [],
   "source": [
    "states = gen_states()"
   ]
  },
  {
   "cell_type": "code",
   "execution_count": 25,
   "metadata": {
    "scrolled": true
   },
   "outputs": [],
   "source": [
    "actions = gen_actions()"
   ]
  },
  {
   "cell_type": "code",
   "execution_count": 26,
   "metadata": {
    "scrolled": true
   },
   "outputs": [],
   "source": [
    "transitions = gen_transitions(states, actions)"
   ]
  },
  {
   "cell_type": "code",
   "execution_count": 27,
   "metadata": {},
   "outputs": [
    {
     "name": "stdout",
     "output_type": "stream",
     "text": [
      "No errors found.\n"
     ]
    },
    {
     "data": {
      "text/plain": [
       "False"
      ]
     },
     "execution_count": 27,
     "metadata": {},
     "output_type": "execute_result"
    }
   ],
   "source": [
    "test_transitions(states, actions, transitions)"
   ]
  },
  {
   "cell_type": "code",
   "execution_count": 28,
   "metadata": {},
   "outputs": [],
   "source": [
    "rewards = gen_rewards(states, actions)"
   ]
  },
  {
   "cell_type": "code",
   "execution_count": 29,
   "metadata": {},
   "outputs": [
    {
     "data": {
      "text/plain": [
       "True"
      ]
     },
     "execution_count": 29,
     "metadata": {},
     "output_type": "execute_result"
    }
   ],
   "source": [
    "test_rewards(rewards)"
   ]
  },
  {
   "cell_type": "code",
   "execution_count": 30,
   "metadata": {},
   "outputs": [],
   "source": [
    "observations = gen_observations(states, actions, OBSERVATION_SET)"
   ]
  },
  {
   "cell_type": "code",
   "execution_count": 31,
   "metadata": {},
   "outputs": [],
   "source": [
    "class POMDPGenerator:\n",
    "    def __init__ (self, states, actions, observation_set,\\\n",
    "                  observations, transitions, rewards, discount, \\\n",
    "                  start_target_pos, start_agent_pos_list):\n",
    "        self.states = states\n",
    "        self.actions = actions\n",
    "        self.observation_set = observation_set\n",
    "        self.observations = observations\n",
    "        self.transitions = transitions\n",
    "        self.rewards = rewards\n",
    "        self.discount = discount\n",
    "        self.start_target_pos = start_target_pos\n",
    "        self.start_agent_pos_list = start_agent_pos_list\n",
    "        self.file = f\"discount: {self.discount}\\n\"\n",
    "        self.file += f\"values: reward\\n\"\n",
    "        self.file += self.write_states()\n",
    "        self.file += self.write_actions()\n",
    "        self.file += self.write_observation_set()\n",
    "        self.file += self.write_initial_state() + \"\\n\"\n",
    "        self.file += self.write_transitions() + \"\\n\"\n",
    "        self.file += self.write_observations() + \"\\n\"\n",
    "        self.file += self.write_rewards() + \"\\n\"\n",
    "\n",
    "    def state_map (self, state):\n",
    "        return self.states.index(state)\n",
    "\n",
    "    def write_states(self):\n",
    "        text = \"states: \" + str(len(states)) + \" \\n\"\n",
    "        return text\n",
    "    \n",
    "    def write_actions(self):\n",
    "        text = \"actions: \" \n",
    "        for action in self.actions:\n",
    "            text += str(action[0]) + \" \"\n",
    "        text += \"\\n\"\n",
    "        return text\n",
    "    \n",
    "    def write_observation_set(self):\n",
    "        text = \"observations: \"\n",
    "        for obs in self.observation_set:\n",
    "            text += str(obs) + \" \"\n",
    "        text += \"\\n\"\n",
    "        return text\n",
    "    \n",
    "    def write_initial_state(self):\n",
    "        text = \"start include: \"\n",
    "        for state in self.states:\n",
    "            if state[1] == self.start_target_pos:\n",
    "                if state[0] in self.start_agent_pos_list:\n",
    "                    state_num = self.state_map(state)\n",
    "                    text += f\"{state_num} \"\n",
    "        text += \"\\n\"\n",
    "        return text\n",
    "        \n",
    "    \n",
    "    def write_transitions(self):\n",
    "        text = \"\"\n",
    "        for transition in self.transitions:\n",
    "            i_state = self.state_map(transition[0])\n",
    "            action = transition[1][0]\n",
    "            f_state = self.state_map(transition[2])\n",
    "            prob = transition[3]\n",
    "            if prob != 0:\n",
    "                text += f\"T: {action} : {i_state} : {f_state} {prob} \\n\"\n",
    "#         print(text[:1000])\n",
    "        return text\n",
    "    \n",
    "    def write_observations(self):\n",
    "        text = \"\"\n",
    "        for observation in self.observations:\n",
    "            end_state = self.state_map(observation[0])\n",
    "            action = observation[1][0]\n",
    "            obs = observation[2]\n",
    "            prob = observation[3]\n",
    "            text += f\"O: {action} : {end_state} : {obs} {prob} \\n\"\n",
    "#         print(text[:2000])\n",
    "        return text\n",
    "    \n",
    "    def write_rewards(self):\n",
    "        text = \"\"\n",
    "        for reward in self.rewards:\n",
    "            initial_state = self.state_map(reward[0])\n",
    "            action = reward[1][0]\n",
    "            val = reward[2]\n",
    "            end_state = \"*\"\n",
    "            observation = \"*\"\n",
    "            text += f\"R: {action} : {initial_state} : {end_state} : {observation} {val} \\n\"\n",
    "#         print(text[:1000])\n",
    "        return text\n",
    "\n",
    "    def write_to_file (self, outfile):\n",
    "        with open(outfile, \"w\") as f:\n",
    "            f.write(self.file)\n",
    "        return \n",
    "        \n",
    "    pass\n"
   ]
  },
  {
   "cell_type": "code",
   "execution_count": 32,
   "metadata": {},
   "outputs": [],
   "source": [
    "pomdp = POMDPGenerator(states, actions, OBSERVATION_SET, observations, \\\n",
    "                       transitions, rewards, DISCOUNT, START_TARGET_POS,\\\n",
    "                       START_AGENT_POS_LIST)"
   ]
  },
  {
   "cell_type": "code",
   "execution_count": 33,
   "metadata": {},
   "outputs": [],
   "source": [
    "pomdp.write_to_file(\"problem.pomdp\")"
   ]
  },
  {
   "cell_type": "code",
   "execution_count": null,
   "metadata": {},
   "outputs": [],
   "source": []
  },
  {
   "cell_type": "code",
   "execution_count": null,
   "metadata": {},
   "outputs": [],
   "source": []
  }
 ],
 "metadata": {
  "kernelspec": {
   "display_name": "Python 3",
   "language": "python",
   "name": "python3"
  },
  "language_info": {
   "codemirror_mode": {
    "name": "ipython",
    "version": 3
   },
   "file_extension": ".py",
   "mimetype": "text/x-python",
   "name": "python",
   "nbconvert_exporter": "python",
   "pygments_lexer": "ipython3",
   "version": "3.6.9"
  }
 },
 "nbformat": 4,
 "nbformat_minor": 4
}
